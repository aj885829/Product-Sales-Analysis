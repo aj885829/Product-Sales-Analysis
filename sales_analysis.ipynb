{
  "nbformat": 4,
  "nbformat_minor": 0,
  "metadata": {
    "colab": {
      "provenance": []
    },
    "kernelspec": {
      "name": "python3",
      "display_name": "Python 3"
    },
    "language_info": {
      "name": "python"
    }
  },
  "cells": [
    {
      "cell_type": "markdown",
      "source": [
        "**Import Required Libraries**"
      ],
      "metadata": {
        "id": "6SEI4IkHoFyw"
      }
    },
    {
      "cell_type": "code",
      "execution_count": 2,
      "metadata": {
        "id": "yj7gq8hkL1UE"
      },
      "outputs": [],
      "source": [
        "import pandas as pd\n",
        "import numpy as np\n",
        "import matplotlib.pyplot as plt\n",
        "import seaborn as sns"
      ]
    },
    {
      "cell_type": "markdown",
      "source": [
        "**Load and Preview the Data**"
      ],
      "metadata": {
        "id": "NGWa3ZsSoXik"
      }
    },
    {
      "cell_type": "code",
      "source": [
        "file_path = \"/content/Product-Sales-Region.xlsx\"\n",
        "df = pd.read_excel(file_path)"
      ],
      "metadata": {
        "id": "gEYxctGKioY3"
      },
      "execution_count": 3,
      "outputs": []
    },
    {
      "cell_type": "markdown",
      "source": [
        "**Data Overview & Error Checks**"
      ],
      "metadata": {
        "id": "4rSWqRpmokH_"
      }
    },
    {
      "cell_type": "code",
      "source": [
        "df.head()"
      ],
      "metadata": {
        "colab": {
          "base_uri": "https://localhost:8080/",
          "height": 313
        },
        "id": "Mb3ixEfsj4kh",
        "outputId": "9066facd-1ac5-47bb-fb90-6a336a55818a"
      },
      "execution_count": 5,
      "outputs": [
        {
          "output_type": "execute_result",
          "data": {
            "text/plain": [
              "        Date   Region Product  Quantity  UnitPrice StoreLocation CustomerType  \\\n",
              "0 2023-02-23     East  Laptop        14     163.60       Store B    Wholesale   \n",
              "1 2024-12-19    South   Phone         1     544.01       Store A       Retail   \n",
              "2 2023-05-10    North    Desk        14     346.18       Store B    Wholesale   \n",
              "3 2025-02-26  Central   Chair        18     384.82       Store A    Wholesale   \n",
              "4 2023-06-24     East    Desk        18     237.76       Store C       Retail   \n",
              "\n",
              "   Discount Salesperson  TotalPrice PaymentMethod Promotion  Returned  \\\n",
              "0      0.00         Eva    2290.400        Online  FREESHIP         0   \n",
              "1      0.00       Alice     544.010     Gift Card    SAVE10         0   \n",
              "2      0.10       Alice    4361.868        Online  WINTER15         0   \n",
              "3      0.15       Frank    5887.746     Gift Card  FREESHIP         0   \n",
              "4      0.00      Carlos    4279.680        Online    SAVE10         0   \n",
              "\n",
              "     OrderID CustomerName  ShippingCost  OrderDate DeliveryDate RegionManager  \n",
              "0  REG100000    Cust 6583         43.34 2023-02-23   2023-02-27          Eric  \n",
              "1  REG100001    Cust 2144          5.30 2024-12-19   2024-12-28        Sophie  \n",
              "2  REG100002    Cust 5998         20.46 2023-05-10   2023-05-19          Ryan  \n",
              "3  REG100003    Cust 7136         27.95 2025-02-26   2025-03-02       Cameron  \n",
              "4  REG100004    Cust 6506          5.73 2023-06-24   2023-06-27          Eric  "
            ],
            "text/html": [
              "\n",
              "  <div id=\"df-16da7f1a-17b9-46c8-9467-2120cc858c8f\" class=\"colab-df-container\">\n",
              "    <div>\n",
              "<style scoped>\n",
              "    .dataframe tbody tr th:only-of-type {\n",
              "        vertical-align: middle;\n",
              "    }\n",
              "\n",
              "    .dataframe tbody tr th {\n",
              "        vertical-align: top;\n",
              "    }\n",
              "\n",
              "    .dataframe thead th {\n",
              "        text-align: right;\n",
              "    }\n",
              "</style>\n",
              "<table border=\"1\" class=\"dataframe\">\n",
              "  <thead>\n",
              "    <tr style=\"text-align: right;\">\n",
              "      <th></th>\n",
              "      <th>Date</th>\n",
              "      <th>Region</th>\n",
              "      <th>Product</th>\n",
              "      <th>Quantity</th>\n",
              "      <th>UnitPrice</th>\n",
              "      <th>StoreLocation</th>\n",
              "      <th>CustomerType</th>\n",
              "      <th>Discount</th>\n",
              "      <th>Salesperson</th>\n",
              "      <th>TotalPrice</th>\n",
              "      <th>PaymentMethod</th>\n",
              "      <th>Promotion</th>\n",
              "      <th>Returned</th>\n",
              "      <th>OrderID</th>\n",
              "      <th>CustomerName</th>\n",
              "      <th>ShippingCost</th>\n",
              "      <th>OrderDate</th>\n",
              "      <th>DeliveryDate</th>\n",
              "      <th>RegionManager</th>\n",
              "    </tr>\n",
              "  </thead>\n",
              "  <tbody>\n",
              "    <tr>\n",
              "      <th>0</th>\n",
              "      <td>2023-02-23</td>\n",
              "      <td>East</td>\n",
              "      <td>Laptop</td>\n",
              "      <td>14</td>\n",
              "      <td>163.60</td>\n",
              "      <td>Store B</td>\n",
              "      <td>Wholesale</td>\n",
              "      <td>0.00</td>\n",
              "      <td>Eva</td>\n",
              "      <td>2290.400</td>\n",
              "      <td>Online</td>\n",
              "      <td>FREESHIP</td>\n",
              "      <td>0</td>\n",
              "      <td>REG100000</td>\n",
              "      <td>Cust 6583</td>\n",
              "      <td>43.34</td>\n",
              "      <td>2023-02-23</td>\n",
              "      <td>2023-02-27</td>\n",
              "      <td>Eric</td>\n",
              "    </tr>\n",
              "    <tr>\n",
              "      <th>1</th>\n",
              "      <td>2024-12-19</td>\n",
              "      <td>South</td>\n",
              "      <td>Phone</td>\n",
              "      <td>1</td>\n",
              "      <td>544.01</td>\n",
              "      <td>Store A</td>\n",
              "      <td>Retail</td>\n",
              "      <td>0.00</td>\n",
              "      <td>Alice</td>\n",
              "      <td>544.010</td>\n",
              "      <td>Gift Card</td>\n",
              "      <td>SAVE10</td>\n",
              "      <td>0</td>\n",
              "      <td>REG100001</td>\n",
              "      <td>Cust 2144</td>\n",
              "      <td>5.30</td>\n",
              "      <td>2024-12-19</td>\n",
              "      <td>2024-12-28</td>\n",
              "      <td>Sophie</td>\n",
              "    </tr>\n",
              "    <tr>\n",
              "      <th>2</th>\n",
              "      <td>2023-05-10</td>\n",
              "      <td>North</td>\n",
              "      <td>Desk</td>\n",
              "      <td>14</td>\n",
              "      <td>346.18</td>\n",
              "      <td>Store B</td>\n",
              "      <td>Wholesale</td>\n",
              "      <td>0.10</td>\n",
              "      <td>Alice</td>\n",
              "      <td>4361.868</td>\n",
              "      <td>Online</td>\n",
              "      <td>WINTER15</td>\n",
              "      <td>0</td>\n",
              "      <td>REG100002</td>\n",
              "      <td>Cust 5998</td>\n",
              "      <td>20.46</td>\n",
              "      <td>2023-05-10</td>\n",
              "      <td>2023-05-19</td>\n",
              "      <td>Ryan</td>\n",
              "    </tr>\n",
              "    <tr>\n",
              "      <th>3</th>\n",
              "      <td>2025-02-26</td>\n",
              "      <td>Central</td>\n",
              "      <td>Chair</td>\n",
              "      <td>18</td>\n",
              "      <td>384.82</td>\n",
              "      <td>Store A</td>\n",
              "      <td>Wholesale</td>\n",
              "      <td>0.15</td>\n",
              "      <td>Frank</td>\n",
              "      <td>5887.746</td>\n",
              "      <td>Gift Card</td>\n",
              "      <td>FREESHIP</td>\n",
              "      <td>0</td>\n",
              "      <td>REG100003</td>\n",
              "      <td>Cust 7136</td>\n",
              "      <td>27.95</td>\n",
              "      <td>2025-02-26</td>\n",
              "      <td>2025-03-02</td>\n",
              "      <td>Cameron</td>\n",
              "    </tr>\n",
              "    <tr>\n",
              "      <th>4</th>\n",
              "      <td>2023-06-24</td>\n",
              "      <td>East</td>\n",
              "      <td>Desk</td>\n",
              "      <td>18</td>\n",
              "      <td>237.76</td>\n",
              "      <td>Store C</td>\n",
              "      <td>Retail</td>\n",
              "      <td>0.00</td>\n",
              "      <td>Carlos</td>\n",
              "      <td>4279.680</td>\n",
              "      <td>Online</td>\n",
              "      <td>SAVE10</td>\n",
              "      <td>0</td>\n",
              "      <td>REG100004</td>\n",
              "      <td>Cust 6506</td>\n",
              "      <td>5.73</td>\n",
              "      <td>2023-06-24</td>\n",
              "      <td>2023-06-27</td>\n",
              "      <td>Eric</td>\n",
              "    </tr>\n",
              "  </tbody>\n",
              "</table>\n",
              "</div>\n",
              "    <div class=\"colab-df-buttons\">\n",
              "\n",
              "  <div class=\"colab-df-container\">\n",
              "    <button class=\"colab-df-convert\" onclick=\"convertToInteractive('df-16da7f1a-17b9-46c8-9467-2120cc858c8f')\"\n",
              "            title=\"Convert this dataframe to an interactive table.\"\n",
              "            style=\"display:none;\">\n",
              "\n",
              "  <svg xmlns=\"http://www.w3.org/2000/svg\" height=\"24px\" viewBox=\"0 -960 960 960\">\n",
              "    <path d=\"M120-120v-720h720v720H120Zm60-500h600v-160H180v160Zm220 220h160v-160H400v160Zm0 220h160v-160H400v160ZM180-400h160v-160H180v160Zm440 0h160v-160H620v160ZM180-180h160v-160H180v160Zm440 0h160v-160H620v160Z\"/>\n",
              "  </svg>\n",
              "    </button>\n",
              "\n",
              "  <style>\n",
              "    .colab-df-container {\n",
              "      display:flex;\n",
              "      gap: 12px;\n",
              "    }\n",
              "\n",
              "    .colab-df-convert {\n",
              "      background-color: #E8F0FE;\n",
              "      border: none;\n",
              "      border-radius: 50%;\n",
              "      cursor: pointer;\n",
              "      display: none;\n",
              "      fill: #1967D2;\n",
              "      height: 32px;\n",
              "      padding: 0 0 0 0;\n",
              "      width: 32px;\n",
              "    }\n",
              "\n",
              "    .colab-df-convert:hover {\n",
              "      background-color: #E2EBFA;\n",
              "      box-shadow: 0px 1px 2px rgba(60, 64, 67, 0.3), 0px 1px 3px 1px rgba(60, 64, 67, 0.15);\n",
              "      fill: #174EA6;\n",
              "    }\n",
              "\n",
              "    .colab-df-buttons div {\n",
              "      margin-bottom: 4px;\n",
              "    }\n",
              "\n",
              "    [theme=dark] .colab-df-convert {\n",
              "      background-color: #3B4455;\n",
              "      fill: #D2E3FC;\n",
              "    }\n",
              "\n",
              "    [theme=dark] .colab-df-convert:hover {\n",
              "      background-color: #434B5C;\n",
              "      box-shadow: 0px 1px 3px 1px rgba(0, 0, 0, 0.15);\n",
              "      filter: drop-shadow(0px 1px 2px rgba(0, 0, 0, 0.3));\n",
              "      fill: #FFFFFF;\n",
              "    }\n",
              "  </style>\n",
              "\n",
              "    <script>\n",
              "      const buttonEl =\n",
              "        document.querySelector('#df-16da7f1a-17b9-46c8-9467-2120cc858c8f button.colab-df-convert');\n",
              "      buttonEl.style.display =\n",
              "        google.colab.kernel.accessAllowed ? 'block' : 'none';\n",
              "\n",
              "      async function convertToInteractive(key) {\n",
              "        const element = document.querySelector('#df-16da7f1a-17b9-46c8-9467-2120cc858c8f');\n",
              "        const dataTable =\n",
              "          await google.colab.kernel.invokeFunction('convertToInteractive',\n",
              "                                                    [key], {});\n",
              "        if (!dataTable) return;\n",
              "\n",
              "        const docLinkHtml = 'Like what you see? Visit the ' +\n",
              "          '<a target=\"_blank\" href=https://colab.research.google.com/notebooks/data_table.ipynb>data table notebook</a>'\n",
              "          + ' to learn more about interactive tables.';\n",
              "        element.innerHTML = '';\n",
              "        dataTable['output_type'] = 'display_data';\n",
              "        await google.colab.output.renderOutput(dataTable, element);\n",
              "        const docLink = document.createElement('div');\n",
              "        docLink.innerHTML = docLinkHtml;\n",
              "        element.appendChild(docLink);\n",
              "      }\n",
              "    </script>\n",
              "  </div>\n",
              "\n",
              "\n",
              "    <div id=\"df-34ad711f-44b9-4fee-8cd6-660ef9835891\">\n",
              "      <button class=\"colab-df-quickchart\" onclick=\"quickchart('df-34ad711f-44b9-4fee-8cd6-660ef9835891')\"\n",
              "                title=\"Suggest charts\"\n",
              "                style=\"display:none;\">\n",
              "\n",
              "<svg xmlns=\"http://www.w3.org/2000/svg\" height=\"24px\"viewBox=\"0 0 24 24\"\n",
              "     width=\"24px\">\n",
              "    <g>\n",
              "        <path d=\"M19 3H5c-1.1 0-2 .9-2 2v14c0 1.1.9 2 2 2h14c1.1 0 2-.9 2-2V5c0-1.1-.9-2-2-2zM9 17H7v-7h2v7zm4 0h-2V7h2v10zm4 0h-2v-4h2v4z\"/>\n",
              "    </g>\n",
              "</svg>\n",
              "      </button>\n",
              "\n",
              "<style>\n",
              "  .colab-df-quickchart {\n",
              "      --bg-color: #E8F0FE;\n",
              "      --fill-color: #1967D2;\n",
              "      --hover-bg-color: #E2EBFA;\n",
              "      --hover-fill-color: #174EA6;\n",
              "      --disabled-fill-color: #AAA;\n",
              "      --disabled-bg-color: #DDD;\n",
              "  }\n",
              "\n",
              "  [theme=dark] .colab-df-quickchart {\n",
              "      --bg-color: #3B4455;\n",
              "      --fill-color: #D2E3FC;\n",
              "      --hover-bg-color: #434B5C;\n",
              "      --hover-fill-color: #FFFFFF;\n",
              "      --disabled-bg-color: #3B4455;\n",
              "      --disabled-fill-color: #666;\n",
              "  }\n",
              "\n",
              "  .colab-df-quickchart {\n",
              "    background-color: var(--bg-color);\n",
              "    border: none;\n",
              "    border-radius: 50%;\n",
              "    cursor: pointer;\n",
              "    display: none;\n",
              "    fill: var(--fill-color);\n",
              "    height: 32px;\n",
              "    padding: 0;\n",
              "    width: 32px;\n",
              "  }\n",
              "\n",
              "  .colab-df-quickchart:hover {\n",
              "    background-color: var(--hover-bg-color);\n",
              "    box-shadow: 0 1px 2px rgba(60, 64, 67, 0.3), 0 1px 3px 1px rgba(60, 64, 67, 0.15);\n",
              "    fill: var(--button-hover-fill-color);\n",
              "  }\n",
              "\n",
              "  .colab-df-quickchart-complete:disabled,\n",
              "  .colab-df-quickchart-complete:disabled:hover {\n",
              "    background-color: var(--disabled-bg-color);\n",
              "    fill: var(--disabled-fill-color);\n",
              "    box-shadow: none;\n",
              "  }\n",
              "\n",
              "  .colab-df-spinner {\n",
              "    border: 2px solid var(--fill-color);\n",
              "    border-color: transparent;\n",
              "    border-bottom-color: var(--fill-color);\n",
              "    animation:\n",
              "      spin 1s steps(1) infinite;\n",
              "  }\n",
              "\n",
              "  @keyframes spin {\n",
              "    0% {\n",
              "      border-color: transparent;\n",
              "      border-bottom-color: var(--fill-color);\n",
              "      border-left-color: var(--fill-color);\n",
              "    }\n",
              "    20% {\n",
              "      border-color: transparent;\n",
              "      border-left-color: var(--fill-color);\n",
              "      border-top-color: var(--fill-color);\n",
              "    }\n",
              "    30% {\n",
              "      border-color: transparent;\n",
              "      border-left-color: var(--fill-color);\n",
              "      border-top-color: var(--fill-color);\n",
              "      border-right-color: var(--fill-color);\n",
              "    }\n",
              "    40% {\n",
              "      border-color: transparent;\n",
              "      border-right-color: var(--fill-color);\n",
              "      border-top-color: var(--fill-color);\n",
              "    }\n",
              "    60% {\n",
              "      border-color: transparent;\n",
              "      border-right-color: var(--fill-color);\n",
              "    }\n",
              "    80% {\n",
              "      border-color: transparent;\n",
              "      border-right-color: var(--fill-color);\n",
              "      border-bottom-color: var(--fill-color);\n",
              "    }\n",
              "    90% {\n",
              "      border-color: transparent;\n",
              "      border-bottom-color: var(--fill-color);\n",
              "    }\n",
              "  }\n",
              "</style>\n",
              "\n",
              "      <script>\n",
              "        async function quickchart(key) {\n",
              "          const quickchartButtonEl =\n",
              "            document.querySelector('#' + key + ' button');\n",
              "          quickchartButtonEl.disabled = true;  // To prevent multiple clicks.\n",
              "          quickchartButtonEl.classList.add('colab-df-spinner');\n",
              "          try {\n",
              "            const charts = await google.colab.kernel.invokeFunction(\n",
              "                'suggestCharts', [key], {});\n",
              "          } catch (error) {\n",
              "            console.error('Error during call to suggestCharts:', error);\n",
              "          }\n",
              "          quickchartButtonEl.classList.remove('colab-df-spinner');\n",
              "          quickchartButtonEl.classList.add('colab-df-quickchart-complete');\n",
              "        }\n",
              "        (() => {\n",
              "          let quickchartButtonEl =\n",
              "            document.querySelector('#df-34ad711f-44b9-4fee-8cd6-660ef9835891 button');\n",
              "          quickchartButtonEl.style.display =\n",
              "            google.colab.kernel.accessAllowed ? 'block' : 'none';\n",
              "        })();\n",
              "      </script>\n",
              "    </div>\n",
              "\n",
              "    </div>\n",
              "  </div>\n"
            ],
            "application/vnd.google.colaboratory.intrinsic+json": {
              "type": "dataframe",
              "variable_name": "df",
              "summary": "{\n  \"name\": \"df\",\n  \"rows\": 1500,\n  \"fields\": [\n    {\n      \"column\": \"Date\",\n      \"properties\": {\n        \"dtype\": \"date\",\n        \"min\": \"2023-01-01 00:00:00\",\n        \"max\": \"2025-06-30 00:00:00\",\n        \"num_unique_values\": 747,\n        \"samples\": [\n          \"2024-11-04 00:00:00\",\n          \"2025-03-29 00:00:00\",\n          \"2023-07-22 00:00:00\"\n        ],\n        \"semantic_type\": \"\",\n        \"description\": \"\"\n      }\n    },\n    {\n      \"column\": \"Region\",\n      \"properties\": {\n        \"dtype\": \"category\",\n        \"num_unique_values\": 5,\n        \"samples\": [\n          \"South\",\n          \"West\",\n          \"North\"\n        ],\n        \"semantic_type\": \"\",\n        \"description\": \"\"\n      }\n    },\n    {\n      \"column\": \"Product\",\n      \"properties\": {\n        \"dtype\": \"category\",\n        \"num_unique_values\": 7,\n        \"samples\": [\n          \"Laptop\",\n          \"Phone\",\n          \"Tablet\"\n        ],\n        \"semantic_type\": \"\",\n        \"description\": \"\"\n      }\n    },\n    {\n      \"column\": \"Quantity\",\n      \"properties\": {\n        \"dtype\": \"number\",\n        \"std\": 5,\n        \"min\": 1,\n        \"max\": 20,\n        \"num_unique_values\": 20,\n        \"samples\": [\n          14,\n          9,\n          4\n        ],\n        \"semantic_type\": \"\",\n        \"description\": \"\"\n      }\n    },\n    {\n      \"column\": \"UnitPrice\",\n      \"properties\": {\n        \"dtype\": \"number\",\n        \"std\": 169.10007477882428,\n        \"min\": 5.52,\n        \"max\": 599.72,\n        \"num_unique_values\": 1482,\n        \"samples\": [\n          323.8,\n          506.81,\n          334.55\n        ],\n        \"semantic_type\": \"\",\n        \"description\": \"\"\n      }\n    },\n    {\n      \"column\": \"StoreLocation\",\n      \"properties\": {\n        \"dtype\": \"category\",\n        \"num_unique_values\": 4,\n        \"samples\": [\n          \"Store A\",\n          \"Store D\",\n          \"Store B\"\n        ],\n        \"semantic_type\": \"\",\n        \"description\": \"\"\n      }\n    },\n    {\n      \"column\": \"CustomerType\",\n      \"properties\": {\n        \"dtype\": \"category\",\n        \"num_unique_values\": 2,\n        \"samples\": [\n          \"Retail\",\n          \"Wholesale\"\n        ],\n        \"semantic_type\": \"\",\n        \"description\": \"\"\n      }\n    },\n    {\n      \"column\": \"Discount\",\n      \"properties\": {\n        \"dtype\": \"number\",\n        \"std\": 0.05597860864031659,\n        \"min\": 0.0,\n        \"max\": 0.15,\n        \"num_unique_values\": 4,\n        \"samples\": [\n          0.1,\n          0.05\n        ],\n        \"semantic_type\": \"\",\n        \"description\": \"\"\n      }\n    },\n    {\n      \"column\": \"Salesperson\",\n      \"properties\": {\n        \"dtype\": \"category\",\n        \"num_unique_values\": 6,\n        \"samples\": [\n          \"Eva\",\n          \"Alice\"\n        ],\n        \"semantic_type\": \"\",\n        \"description\": \"\"\n      }\n    },\n    {\n      \"column\": \"TotalPrice\",\n      \"properties\": {\n        \"dtype\": \"number\",\n        \"std\": 2522.7899768635466,\n        \"min\": 6.969999999999999,\n        \"max\": 11077.0,\n        \"num_unique_values\": 1500,\n        \"samples\": [\n          4956.588,\n          2311.54\n        ],\n        \"semantic_type\": \"\",\n        \"description\": \"\"\n      }\n    },\n    {\n      \"column\": \"PaymentMethod\",\n      \"properties\": {\n        \"dtype\": \"category\",\n        \"num_unique_values\": 5,\n        \"samples\": [\n          \"Gift Card\",\n          \"Cash\"\n        ],\n        \"semantic_type\": \"\",\n        \"description\": \"\"\n      }\n    },\n    {\n      \"column\": \"Promotion\",\n      \"properties\": {\n        \"dtype\": \"category\",\n        \"num_unique_values\": 3,\n        \"samples\": [\n          \"FREESHIP\",\n          \"SAVE10\"\n        ],\n        \"semantic_type\": \"\",\n        \"description\": \"\"\n      }\n    },\n    {\n      \"column\": \"Returned\",\n      \"properties\": {\n        \"dtype\": \"number\",\n        \"std\": 0,\n        \"min\": 0,\n        \"max\": 1,\n        \"num_unique_values\": 2,\n        \"samples\": [\n          1,\n          0\n        ],\n        \"semantic_type\": \"\",\n        \"description\": \"\"\n      }\n    },\n    {\n      \"column\": \"OrderID\",\n      \"properties\": {\n        \"dtype\": \"string\",\n        \"num_unique_values\": 1500,\n        \"samples\": [\n          \"REG101116\",\n          \"REG101368\"\n        ],\n        \"semantic_type\": \"\",\n        \"description\": \"\"\n      }\n    },\n    {\n      \"column\": \"CustomerName\",\n      \"properties\": {\n        \"dtype\": \"string\",\n        \"num_unique_values\": 1371,\n        \"samples\": [\n          \"Cust 9572\",\n          \"Cust 2800\"\n        ],\n        \"semantic_type\": \"\",\n        \"description\": \"\"\n      }\n    },\n    {\n      \"column\": \"ShippingCost\",\n      \"properties\": {\n        \"dtype\": \"number\",\n        \"std\": 13.093452896255172,\n        \"min\": 5.01,\n        \"max\": 49.98,\n        \"num_unique_values\": 1285,\n        \"samples\": [\n          32.28,\n          32.52\n        ],\n        \"semantic_type\": \"\",\n        \"description\": \"\"\n      }\n    },\n    {\n      \"column\": \"OrderDate\",\n      \"properties\": {\n        \"dtype\": \"date\",\n        \"min\": \"2023-01-01 00:00:00\",\n        \"max\": \"2025-06-30 00:00:00\",\n        \"num_unique_values\": 747,\n        \"samples\": [\n          \"2024-11-04 00:00:00\",\n          \"2025-03-29 00:00:00\"\n        ],\n        \"semantic_type\": \"\",\n        \"description\": \"\"\n      }\n    },\n    {\n      \"column\": \"DeliveryDate\",\n      \"properties\": {\n        \"dtype\": \"date\",\n        \"min\": \"2023-01-08 00:00:00\",\n        \"max\": \"2025-07-10 00:00:00\",\n        \"num_unique_values\": 733,\n        \"samples\": [\n          \"2023-08-28 00:00:00\",\n          \"2025-05-12 00:00:00\"\n        ],\n        \"semantic_type\": \"\",\n        \"description\": \"\"\n      }\n    },\n    {\n      \"column\": \"RegionManager\",\n      \"properties\": {\n        \"dtype\": \"category\",\n        \"num_unique_values\": 5,\n        \"samples\": [\n          \"Sophie\",\n          \"Wendy\"\n        ],\n        \"semantic_type\": \"\",\n        \"description\": \"\"\n      }\n    }\n  ]\n}"
            }
          },
          "metadata": {},
          "execution_count": 5
        }
      ]
    },
    {
      "cell_type": "code",
      "source": [
        "df.shape"
      ],
      "metadata": {
        "colab": {
          "base_uri": "https://localhost:8080/"
        },
        "id": "HwYPRGlfj-bQ",
        "outputId": "146d2857-55c3-4b1b-f202-8814af6d9c09"
      },
      "execution_count": 8,
      "outputs": [
        {
          "output_type": "execute_result",
          "data": {
            "text/plain": [
              "(1500, 19)"
            ]
          },
          "metadata": {},
          "execution_count": 8
        }
      ]
    },
    {
      "cell_type": "code",
      "source": [
        "df.columns.tolist()"
      ],
      "metadata": {
        "colab": {
          "base_uri": "https://localhost:8080/"
        },
        "id": "Eexhtc6hkgEr",
        "outputId": "e8546526-8b36-43a0-a8b3-66455b15512b"
      },
      "execution_count": 9,
      "outputs": [
        {
          "output_type": "execute_result",
          "data": {
            "text/plain": [
              "['Date',\n",
              " 'Region',\n",
              " 'Product',\n",
              " 'Quantity',\n",
              " 'UnitPrice',\n",
              " 'StoreLocation',\n",
              " 'CustomerType',\n",
              " 'Discount',\n",
              " 'Salesperson',\n",
              " 'TotalPrice',\n",
              " 'PaymentMethod',\n",
              " 'Promotion',\n",
              " 'Returned',\n",
              " 'OrderID',\n",
              " 'CustomerName',\n",
              " 'ShippingCost',\n",
              " 'OrderDate',\n",
              " 'DeliveryDate',\n",
              " 'RegionManager']"
            ]
          },
          "metadata": {},
          "execution_count": 9
        }
      ]
    },
    {
      "cell_type": "code",
      "source": [
        "df.dtypes"
      ],
      "metadata": {
        "colab": {
          "base_uri": "https://localhost:8080/",
          "height": 680
        },
        "id": "xfZt3EFzkr_b",
        "outputId": "a2f6c249-944e-4940-8fab-e5283b8d8906"
      },
      "execution_count": 10,
      "outputs": [
        {
          "output_type": "execute_result",
          "data": {
            "text/plain": [
              "Date             datetime64[ns]\n",
              "Region                   object\n",
              "Product                  object\n",
              "Quantity                  int64\n",
              "UnitPrice               float64\n",
              "StoreLocation            object\n",
              "CustomerType             object\n",
              "Discount                float64\n",
              "Salesperson              object\n",
              "TotalPrice              float64\n",
              "PaymentMethod            object\n",
              "Promotion                object\n",
              "Returned                  int64\n",
              "OrderID                  object\n",
              "CustomerName             object\n",
              "ShippingCost            float64\n",
              "OrderDate        datetime64[ns]\n",
              "DeliveryDate     datetime64[ns]\n",
              "RegionManager            object\n",
              "dtype: object"
            ],
            "text/html": [
              "<div>\n",
              "<style scoped>\n",
              "    .dataframe tbody tr th:only-of-type {\n",
              "        vertical-align: middle;\n",
              "    }\n",
              "\n",
              "    .dataframe tbody tr th {\n",
              "        vertical-align: top;\n",
              "    }\n",
              "\n",
              "    .dataframe thead th {\n",
              "        text-align: right;\n",
              "    }\n",
              "</style>\n",
              "<table border=\"1\" class=\"dataframe\">\n",
              "  <thead>\n",
              "    <tr style=\"text-align: right;\">\n",
              "      <th></th>\n",
              "      <th>0</th>\n",
              "    </tr>\n",
              "  </thead>\n",
              "  <tbody>\n",
              "    <tr>\n",
              "      <th>Date</th>\n",
              "      <td>datetime64[ns]</td>\n",
              "    </tr>\n",
              "    <tr>\n",
              "      <th>Region</th>\n",
              "      <td>object</td>\n",
              "    </tr>\n",
              "    <tr>\n",
              "      <th>Product</th>\n",
              "      <td>object</td>\n",
              "    </tr>\n",
              "    <tr>\n",
              "      <th>Quantity</th>\n",
              "      <td>int64</td>\n",
              "    </tr>\n",
              "    <tr>\n",
              "      <th>UnitPrice</th>\n",
              "      <td>float64</td>\n",
              "    </tr>\n",
              "    <tr>\n",
              "      <th>StoreLocation</th>\n",
              "      <td>object</td>\n",
              "    </tr>\n",
              "    <tr>\n",
              "      <th>CustomerType</th>\n",
              "      <td>object</td>\n",
              "    </tr>\n",
              "    <tr>\n",
              "      <th>Discount</th>\n",
              "      <td>float64</td>\n",
              "    </tr>\n",
              "    <tr>\n",
              "      <th>Salesperson</th>\n",
              "      <td>object</td>\n",
              "    </tr>\n",
              "    <tr>\n",
              "      <th>TotalPrice</th>\n",
              "      <td>float64</td>\n",
              "    </tr>\n",
              "    <tr>\n",
              "      <th>PaymentMethod</th>\n",
              "      <td>object</td>\n",
              "    </tr>\n",
              "    <tr>\n",
              "      <th>Promotion</th>\n",
              "      <td>object</td>\n",
              "    </tr>\n",
              "    <tr>\n",
              "      <th>Returned</th>\n",
              "      <td>int64</td>\n",
              "    </tr>\n",
              "    <tr>\n",
              "      <th>OrderID</th>\n",
              "      <td>object</td>\n",
              "    </tr>\n",
              "    <tr>\n",
              "      <th>CustomerName</th>\n",
              "      <td>object</td>\n",
              "    </tr>\n",
              "    <tr>\n",
              "      <th>ShippingCost</th>\n",
              "      <td>float64</td>\n",
              "    </tr>\n",
              "    <tr>\n",
              "      <th>OrderDate</th>\n",
              "      <td>datetime64[ns]</td>\n",
              "    </tr>\n",
              "    <tr>\n",
              "      <th>DeliveryDate</th>\n",
              "      <td>datetime64[ns]</td>\n",
              "    </tr>\n",
              "    <tr>\n",
              "      <th>RegionManager</th>\n",
              "      <td>object</td>\n",
              "    </tr>\n",
              "  </tbody>\n",
              "</table>\n",
              "</div><br><label><b>dtype:</b> object</label>"
            ]
          },
          "metadata": {},
          "execution_count": 10
        }
      ]
    },
    {
      "cell_type": "code",
      "source": [
        "df.isnull().sum()"
      ],
      "metadata": {
        "colab": {
          "base_uri": "https://localhost:8080/",
          "height": 680
        },
        "id": "7cb--q6Tkv5N",
        "outputId": "9db2b712-7bf0-4281-c672-9def3c24aba6"
      },
      "execution_count": 12,
      "outputs": [
        {
          "output_type": "execute_result",
          "data": {
            "text/plain": [
              "Date               0\n",
              "Region             0\n",
              "Product            0\n",
              "Quantity           0\n",
              "UnitPrice          0\n",
              "StoreLocation      0\n",
              "CustomerType       0\n",
              "Discount           0\n",
              "Salesperson        0\n",
              "TotalPrice         0\n",
              "PaymentMethod      0\n",
              "Promotion        370\n",
              "Returned           0\n",
              "OrderID            0\n",
              "CustomerName       0\n",
              "ShippingCost       0\n",
              "OrderDate          0\n",
              "DeliveryDate       0\n",
              "RegionManager      0\n",
              "dtype: int64"
            ],
            "text/html": [
              "<div>\n",
              "<style scoped>\n",
              "    .dataframe tbody tr th:only-of-type {\n",
              "        vertical-align: middle;\n",
              "    }\n",
              "\n",
              "    .dataframe tbody tr th {\n",
              "        vertical-align: top;\n",
              "    }\n",
              "\n",
              "    .dataframe thead th {\n",
              "        text-align: right;\n",
              "    }\n",
              "</style>\n",
              "<table border=\"1\" class=\"dataframe\">\n",
              "  <thead>\n",
              "    <tr style=\"text-align: right;\">\n",
              "      <th></th>\n",
              "      <th>0</th>\n",
              "    </tr>\n",
              "  </thead>\n",
              "  <tbody>\n",
              "    <tr>\n",
              "      <th>Date</th>\n",
              "      <td>0</td>\n",
              "    </tr>\n",
              "    <tr>\n",
              "      <th>Region</th>\n",
              "      <td>0</td>\n",
              "    </tr>\n",
              "    <tr>\n",
              "      <th>Product</th>\n",
              "      <td>0</td>\n",
              "    </tr>\n",
              "    <tr>\n",
              "      <th>Quantity</th>\n",
              "      <td>0</td>\n",
              "    </tr>\n",
              "    <tr>\n",
              "      <th>UnitPrice</th>\n",
              "      <td>0</td>\n",
              "    </tr>\n",
              "    <tr>\n",
              "      <th>StoreLocation</th>\n",
              "      <td>0</td>\n",
              "    </tr>\n",
              "    <tr>\n",
              "      <th>CustomerType</th>\n",
              "      <td>0</td>\n",
              "    </tr>\n",
              "    <tr>\n",
              "      <th>Discount</th>\n",
              "      <td>0</td>\n",
              "    </tr>\n",
              "    <tr>\n",
              "      <th>Salesperson</th>\n",
              "      <td>0</td>\n",
              "    </tr>\n",
              "    <tr>\n",
              "      <th>TotalPrice</th>\n",
              "      <td>0</td>\n",
              "    </tr>\n",
              "    <tr>\n",
              "      <th>PaymentMethod</th>\n",
              "      <td>0</td>\n",
              "    </tr>\n",
              "    <tr>\n",
              "      <th>Promotion</th>\n",
              "      <td>370</td>\n",
              "    </tr>\n",
              "    <tr>\n",
              "      <th>Returned</th>\n",
              "      <td>0</td>\n",
              "    </tr>\n",
              "    <tr>\n",
              "      <th>OrderID</th>\n",
              "      <td>0</td>\n",
              "    </tr>\n",
              "    <tr>\n",
              "      <th>CustomerName</th>\n",
              "      <td>0</td>\n",
              "    </tr>\n",
              "    <tr>\n",
              "      <th>ShippingCost</th>\n",
              "      <td>0</td>\n",
              "    </tr>\n",
              "    <tr>\n",
              "      <th>OrderDate</th>\n",
              "      <td>0</td>\n",
              "    </tr>\n",
              "    <tr>\n",
              "      <th>DeliveryDate</th>\n",
              "      <td>0</td>\n",
              "    </tr>\n",
              "    <tr>\n",
              "      <th>RegionManager</th>\n",
              "      <td>0</td>\n",
              "    </tr>\n",
              "  </tbody>\n",
              "</table>\n",
              "</div><br><label><b>dtype:</b> int64</label>"
            ]
          },
          "metadata": {},
          "execution_count": 12
        }
      ]
    },
    {
      "cell_type": "code",
      "source": [
        "df.duplicated().sum()"
      ],
      "metadata": {
        "colab": {
          "base_uri": "https://localhost:8080/"
        },
        "id": "BkAH5DJWkza6",
        "outputId": "69505f21-4cc2-4b7e-fc0b-6a9b42b61479"
      },
      "execution_count": 13,
      "outputs": [
        {
          "output_type": "execute_result",
          "data": {
            "text/plain": [
              "np.int64(0)"
            ]
          },
          "metadata": {},
          "execution_count": 13
        }
      ]
    },
    {
      "cell_type": "code",
      "source": [
        "df.describe()"
      ],
      "metadata": {
        "colab": {
          "base_uri": "https://localhost:8080/",
          "height": 300
        },
        "id": "dIUT7PVjk6mb",
        "outputId": "c0e2ec28-9f1d-4e16-bb36-026a58267457"
      },
      "execution_count": 14,
      "outputs": [
        {
          "output_type": "execute_result",
          "data": {
            "text/plain": [
              "                                Date     Quantity    UnitPrice     Discount  \\\n",
              "count                           1500  1500.000000  1500.000000  1500.000000   \n",
              "mean   2024-04-07 21:35:02.400000256    10.410667   298.826947     0.073133   \n",
              "min              2023-01-01 00:00:00     1.000000     5.520000     0.000000   \n",
              "25%              2023-08-20 00:00:00     5.000000   151.020000     0.000000   \n",
              "50%              2024-04-08 12:00:00    11.000000   294.740000     0.050000   \n",
              "75%              2024-12-07 06:00:00    15.000000   446.702500     0.100000   \n",
              "max              2025-06-30 00:00:00    20.000000   599.720000     0.150000   \n",
              "std                              NaN     5.735732   169.100075     0.055979   \n",
              "\n",
              "         TotalPrice     Returned  ShippingCost                      OrderDate  \\\n",
              "count   1500.000000  1500.000000   1500.000000                           1500   \n",
              "mean    2919.994952     0.248000     27.507293  2024-04-07 21:35:02.400000256   \n",
              "min        6.970000     0.000000      5.010000            2023-01-01 00:00:00   \n",
              "25%      867.136250     0.000000     16.700000            2023-08-20 00:00:00   \n",
              "50%     2174.724000     0.000000     27.100000            2024-04-08 12:00:00   \n",
              "75%     4414.723500     0.000000     38.635000            2024-12-07 06:00:00   \n",
              "max    11077.000000     1.000000     49.980000            2025-06-30 00:00:00   \n",
              "std     2522.789977     0.431996     13.093453                            NaN   \n",
              "\n",
              "                        DeliveryDate  \n",
              "count                           1500  \n",
              "mean   2024-04-13 22:36:28.799999744  \n",
              "min              2023-01-08 00:00:00  \n",
              "25%              2023-08-25 12:00:00  \n",
              "50%              2024-04-15 12:00:00  \n",
              "75%              2024-12-13 06:00:00  \n",
              "max              2025-07-10 00:00:00  \n",
              "std                              NaN  "
            ],
            "text/html": [
              "\n",
              "  <div id=\"df-5af7a0f8-fdc9-46a8-a976-66d8d573090b\" class=\"colab-df-container\">\n",
              "    <div>\n",
              "<style scoped>\n",
              "    .dataframe tbody tr th:only-of-type {\n",
              "        vertical-align: middle;\n",
              "    }\n",
              "\n",
              "    .dataframe tbody tr th {\n",
              "        vertical-align: top;\n",
              "    }\n",
              "\n",
              "    .dataframe thead th {\n",
              "        text-align: right;\n",
              "    }\n",
              "</style>\n",
              "<table border=\"1\" class=\"dataframe\">\n",
              "  <thead>\n",
              "    <tr style=\"text-align: right;\">\n",
              "      <th></th>\n",
              "      <th>Date</th>\n",
              "      <th>Quantity</th>\n",
              "      <th>UnitPrice</th>\n",
              "      <th>Discount</th>\n",
              "      <th>TotalPrice</th>\n",
              "      <th>Returned</th>\n",
              "      <th>ShippingCost</th>\n",
              "      <th>OrderDate</th>\n",
              "      <th>DeliveryDate</th>\n",
              "    </tr>\n",
              "  </thead>\n",
              "  <tbody>\n",
              "    <tr>\n",
              "      <th>count</th>\n",
              "      <td>1500</td>\n",
              "      <td>1500.000000</td>\n",
              "      <td>1500.000000</td>\n",
              "      <td>1500.000000</td>\n",
              "      <td>1500.000000</td>\n",
              "      <td>1500.000000</td>\n",
              "      <td>1500.000000</td>\n",
              "      <td>1500</td>\n",
              "      <td>1500</td>\n",
              "    </tr>\n",
              "    <tr>\n",
              "      <th>mean</th>\n",
              "      <td>2024-04-07 21:35:02.400000256</td>\n",
              "      <td>10.410667</td>\n",
              "      <td>298.826947</td>\n",
              "      <td>0.073133</td>\n",
              "      <td>2919.994952</td>\n",
              "      <td>0.248000</td>\n",
              "      <td>27.507293</td>\n",
              "      <td>2024-04-07 21:35:02.400000256</td>\n",
              "      <td>2024-04-13 22:36:28.799999744</td>\n",
              "    </tr>\n",
              "    <tr>\n",
              "      <th>min</th>\n",
              "      <td>2023-01-01 00:00:00</td>\n",
              "      <td>1.000000</td>\n",
              "      <td>5.520000</td>\n",
              "      <td>0.000000</td>\n",
              "      <td>6.970000</td>\n",
              "      <td>0.000000</td>\n",
              "      <td>5.010000</td>\n",
              "      <td>2023-01-01 00:00:00</td>\n",
              "      <td>2023-01-08 00:00:00</td>\n",
              "    </tr>\n",
              "    <tr>\n",
              "      <th>25%</th>\n",
              "      <td>2023-08-20 00:00:00</td>\n",
              "      <td>5.000000</td>\n",
              "      <td>151.020000</td>\n",
              "      <td>0.000000</td>\n",
              "      <td>867.136250</td>\n",
              "      <td>0.000000</td>\n",
              "      <td>16.700000</td>\n",
              "      <td>2023-08-20 00:00:00</td>\n",
              "      <td>2023-08-25 12:00:00</td>\n",
              "    </tr>\n",
              "    <tr>\n",
              "      <th>50%</th>\n",
              "      <td>2024-04-08 12:00:00</td>\n",
              "      <td>11.000000</td>\n",
              "      <td>294.740000</td>\n",
              "      <td>0.050000</td>\n",
              "      <td>2174.724000</td>\n",
              "      <td>0.000000</td>\n",
              "      <td>27.100000</td>\n",
              "      <td>2024-04-08 12:00:00</td>\n",
              "      <td>2024-04-15 12:00:00</td>\n",
              "    </tr>\n",
              "    <tr>\n",
              "      <th>75%</th>\n",
              "      <td>2024-12-07 06:00:00</td>\n",
              "      <td>15.000000</td>\n",
              "      <td>446.702500</td>\n",
              "      <td>0.100000</td>\n",
              "      <td>4414.723500</td>\n",
              "      <td>0.000000</td>\n",
              "      <td>38.635000</td>\n",
              "      <td>2024-12-07 06:00:00</td>\n",
              "      <td>2024-12-13 06:00:00</td>\n",
              "    </tr>\n",
              "    <tr>\n",
              "      <th>max</th>\n",
              "      <td>2025-06-30 00:00:00</td>\n",
              "      <td>20.000000</td>\n",
              "      <td>599.720000</td>\n",
              "      <td>0.150000</td>\n",
              "      <td>11077.000000</td>\n",
              "      <td>1.000000</td>\n",
              "      <td>49.980000</td>\n",
              "      <td>2025-06-30 00:00:00</td>\n",
              "      <td>2025-07-10 00:00:00</td>\n",
              "    </tr>\n",
              "    <tr>\n",
              "      <th>std</th>\n",
              "      <td>NaN</td>\n",
              "      <td>5.735732</td>\n",
              "      <td>169.100075</td>\n",
              "      <td>0.055979</td>\n",
              "      <td>2522.789977</td>\n",
              "      <td>0.431996</td>\n",
              "      <td>13.093453</td>\n",
              "      <td>NaN</td>\n",
              "      <td>NaN</td>\n",
              "    </tr>\n",
              "  </tbody>\n",
              "</table>\n",
              "</div>\n",
              "    <div class=\"colab-df-buttons\">\n",
              "\n",
              "  <div class=\"colab-df-container\">\n",
              "    <button class=\"colab-df-convert\" onclick=\"convertToInteractive('df-5af7a0f8-fdc9-46a8-a976-66d8d573090b')\"\n",
              "            title=\"Convert this dataframe to an interactive table.\"\n",
              "            style=\"display:none;\">\n",
              "\n",
              "  <svg xmlns=\"http://www.w3.org/2000/svg\" height=\"24px\" viewBox=\"0 -960 960 960\">\n",
              "    <path d=\"M120-120v-720h720v720H120Zm60-500h600v-160H180v160Zm220 220h160v-160H400v160Zm0 220h160v-160H400v160ZM180-400h160v-160H180v160Zm440 0h160v-160H620v160ZM180-180h160v-160H180v160Zm440 0h160v-160H620v160Z\"/>\n",
              "  </svg>\n",
              "    </button>\n",
              "\n",
              "  <style>\n",
              "    .colab-df-container {\n",
              "      display:flex;\n",
              "      gap: 12px;\n",
              "    }\n",
              "\n",
              "    .colab-df-convert {\n",
              "      background-color: #E8F0FE;\n",
              "      border: none;\n",
              "      border-radius: 50%;\n",
              "      cursor: pointer;\n",
              "      display: none;\n",
              "      fill: #1967D2;\n",
              "      height: 32px;\n",
              "      padding: 0 0 0 0;\n",
              "      width: 32px;\n",
              "    }\n",
              "\n",
              "    .colab-df-convert:hover {\n",
              "      background-color: #E2EBFA;\n",
              "      box-shadow: 0px 1px 2px rgba(60, 64, 67, 0.3), 0px 1px 3px 1px rgba(60, 64, 67, 0.15);\n",
              "      fill: #174EA6;\n",
              "    }\n",
              "\n",
              "    .colab-df-buttons div {\n",
              "      margin-bottom: 4px;\n",
              "    }\n",
              "\n",
              "    [theme=dark] .colab-df-convert {\n",
              "      background-color: #3B4455;\n",
              "      fill: #D2E3FC;\n",
              "    }\n",
              "\n",
              "    [theme=dark] .colab-df-convert:hover {\n",
              "      background-color: #434B5C;\n",
              "      box-shadow: 0px 1px 3px 1px rgba(0, 0, 0, 0.15);\n",
              "      filter: drop-shadow(0px 1px 2px rgba(0, 0, 0, 0.3));\n",
              "      fill: #FFFFFF;\n",
              "    }\n",
              "  </style>\n",
              "\n",
              "    <script>\n",
              "      const buttonEl =\n",
              "        document.querySelector('#df-5af7a0f8-fdc9-46a8-a976-66d8d573090b button.colab-df-convert');\n",
              "      buttonEl.style.display =\n",
              "        google.colab.kernel.accessAllowed ? 'block' : 'none';\n",
              "\n",
              "      async function convertToInteractive(key) {\n",
              "        const element = document.querySelector('#df-5af7a0f8-fdc9-46a8-a976-66d8d573090b');\n",
              "        const dataTable =\n",
              "          await google.colab.kernel.invokeFunction('convertToInteractive',\n",
              "                                                    [key], {});\n",
              "        if (!dataTable) return;\n",
              "\n",
              "        const docLinkHtml = 'Like what you see? Visit the ' +\n",
              "          '<a target=\"_blank\" href=https://colab.research.google.com/notebooks/data_table.ipynb>data table notebook</a>'\n",
              "          + ' to learn more about interactive tables.';\n",
              "        element.innerHTML = '';\n",
              "        dataTable['output_type'] = 'display_data';\n",
              "        await google.colab.output.renderOutput(dataTable, element);\n",
              "        const docLink = document.createElement('div');\n",
              "        docLink.innerHTML = docLinkHtml;\n",
              "        element.appendChild(docLink);\n",
              "      }\n",
              "    </script>\n",
              "  </div>\n",
              "\n",
              "\n",
              "    <div id=\"df-cb4bee05-7d12-42fb-8de1-7a6f0dccb3d5\">\n",
              "      <button class=\"colab-df-quickchart\" onclick=\"quickchart('df-cb4bee05-7d12-42fb-8de1-7a6f0dccb3d5')\"\n",
              "                title=\"Suggest charts\"\n",
              "                style=\"display:none;\">\n",
              "\n",
              "<svg xmlns=\"http://www.w3.org/2000/svg\" height=\"24px\"viewBox=\"0 0 24 24\"\n",
              "     width=\"24px\">\n",
              "    <g>\n",
              "        <path d=\"M19 3H5c-1.1 0-2 .9-2 2v14c0 1.1.9 2 2 2h14c1.1 0 2-.9 2-2V5c0-1.1-.9-2-2-2zM9 17H7v-7h2v7zm4 0h-2V7h2v10zm4 0h-2v-4h2v4z\"/>\n",
              "    </g>\n",
              "</svg>\n",
              "      </button>\n",
              "\n",
              "<style>\n",
              "  .colab-df-quickchart {\n",
              "      --bg-color: #E8F0FE;\n",
              "      --fill-color: #1967D2;\n",
              "      --hover-bg-color: #E2EBFA;\n",
              "      --hover-fill-color: #174EA6;\n",
              "      --disabled-fill-color: #AAA;\n",
              "      --disabled-bg-color: #DDD;\n",
              "  }\n",
              "\n",
              "  [theme=dark] .colab-df-quickchart {\n",
              "      --bg-color: #3B4455;\n",
              "      --fill-color: #D2E3FC;\n",
              "      --hover-bg-color: #434B5C;\n",
              "      --hover-fill-color: #FFFFFF;\n",
              "      --disabled-bg-color: #3B4455;\n",
              "      --disabled-fill-color: #666;\n",
              "  }\n",
              "\n",
              "  .colab-df-quickchart {\n",
              "    background-color: var(--bg-color);\n",
              "    border: none;\n",
              "    border-radius: 50%;\n",
              "    cursor: pointer;\n",
              "    display: none;\n",
              "    fill: var(--fill-color);\n",
              "    height: 32px;\n",
              "    padding: 0;\n",
              "    width: 32px;\n",
              "  }\n",
              "\n",
              "  .colab-df-quickchart:hover {\n",
              "    background-color: var(--hover-bg-color);\n",
              "    box-shadow: 0 1px 2px rgba(60, 64, 67, 0.3), 0 1px 3px 1px rgba(60, 64, 67, 0.15);\n",
              "    fill: var(--button-hover-fill-color);\n",
              "  }\n",
              "\n",
              "  .colab-df-quickchart-complete:disabled,\n",
              "  .colab-df-quickchart-complete:disabled:hover {\n",
              "    background-color: var(--disabled-bg-color);\n",
              "    fill: var(--disabled-fill-color);\n",
              "    box-shadow: none;\n",
              "  }\n",
              "\n",
              "  .colab-df-spinner {\n",
              "    border: 2px solid var(--fill-color);\n",
              "    border-color: transparent;\n",
              "    border-bottom-color: var(--fill-color);\n",
              "    animation:\n",
              "      spin 1s steps(1) infinite;\n",
              "  }\n",
              "\n",
              "  @keyframes spin {\n",
              "    0% {\n",
              "      border-color: transparent;\n",
              "      border-bottom-color: var(--fill-color);\n",
              "      border-left-color: var(--fill-color);\n",
              "    }\n",
              "    20% {\n",
              "      border-color: transparent;\n",
              "      border-left-color: var(--fill-color);\n",
              "      border-top-color: var(--fill-color);\n",
              "    }\n",
              "    30% {\n",
              "      border-color: transparent;\n",
              "      border-left-color: var(--fill-color);\n",
              "      border-top-color: var(--fill-color);\n",
              "      border-right-color: var(--fill-color);\n",
              "    }\n",
              "    40% {\n",
              "      border-color: transparent;\n",
              "      border-right-color: var(--fill-color);\n",
              "      border-top-color: var(--fill-color);\n",
              "    }\n",
              "    60% {\n",
              "      border-color: transparent;\n",
              "      border-right-color: var(--fill-color);\n",
              "    }\n",
              "    80% {\n",
              "      border-color: transparent;\n",
              "      border-right-color: var(--fill-color);\n",
              "      border-bottom-color: var(--fill-color);\n",
              "    }\n",
              "    90% {\n",
              "      border-color: transparent;\n",
              "      border-bottom-color: var(--fill-color);\n",
              "    }\n",
              "  }\n",
              "</style>\n",
              "\n",
              "      <script>\n",
              "        async function quickchart(key) {\n",
              "          const quickchartButtonEl =\n",
              "            document.querySelector('#' + key + ' button');\n",
              "          quickchartButtonEl.disabled = true;  // To prevent multiple clicks.\n",
              "          quickchartButtonEl.classList.add('colab-df-spinner');\n",
              "          try {\n",
              "            const charts = await google.colab.kernel.invokeFunction(\n",
              "                'suggestCharts', [key], {});\n",
              "          } catch (error) {\n",
              "            console.error('Error during call to suggestCharts:', error);\n",
              "          }\n",
              "          quickchartButtonEl.classList.remove('colab-df-spinner');\n",
              "          quickchartButtonEl.classList.add('colab-df-quickchart-complete');\n",
              "        }\n",
              "        (() => {\n",
              "          let quickchartButtonEl =\n",
              "            document.querySelector('#df-cb4bee05-7d12-42fb-8de1-7a6f0dccb3d5 button');\n",
              "          quickchartButtonEl.style.display =\n",
              "            google.colab.kernel.accessAllowed ? 'block' : 'none';\n",
              "        })();\n",
              "      </script>\n",
              "    </div>\n",
              "\n",
              "    </div>\n",
              "  </div>\n"
            ],
            "application/vnd.google.colaboratory.intrinsic+json": {
              "type": "dataframe",
              "summary": "{\n  \"name\": \"df\",\n  \"rows\": 8,\n  \"fields\": [\n    {\n      \"column\": \"Date\",\n      \"properties\": {\n        \"dtype\": \"date\",\n        \"min\": \"1970-01-01 00:00:00.000001500\",\n        \"max\": \"2025-06-30 00:00:00\",\n        \"num_unique_values\": 7,\n        \"samples\": [\n          \"1500\",\n          \"2024-04-07 21:35:02.400000256\",\n          \"2024-12-07 06:00:00\"\n        ],\n        \"semantic_type\": \"\",\n        \"description\": \"\"\n      }\n    },\n    {\n      \"column\": \"Quantity\",\n      \"properties\": {\n        \"dtype\": \"number\",\n        \"std\": 526.9220448907828,\n        \"min\": 1.0,\n        \"max\": 1500.0,\n        \"num_unique_values\": 8,\n        \"samples\": [\n          10.410666666666666,\n          15.0,\n          1500.0\n        ],\n        \"semantic_type\": \"\",\n        \"description\": \"\"\n      }\n    },\n    {\n      \"column\": \"UnitPrice\",\n      \"properties\": {\n        \"dtype\": \"number\",\n        \"std\": 468.3535389549321,\n        \"min\": 5.52,\n        \"max\": 1500.0,\n        \"num_unique_values\": 8,\n        \"samples\": [\n          298.82694666666663,\n          446.7025,\n          1500.0\n        ],\n        \"semantic_type\": \"\",\n        \"description\": \"\"\n      }\n    },\n    {\n      \"column\": \"Discount\",\n      \"properties\": {\n        \"dtype\": \"number\",\n        \"std\": 530.3084147774921,\n        \"min\": 0.0,\n        \"max\": 1500.0,\n        \"num_unique_values\": 7,\n        \"samples\": [\n          1500.0,\n          0.07313333333333334,\n          0.15\n        ],\n        \"semantic_type\": \"\",\n        \"description\": \"\"\n      }\n    },\n    {\n      \"column\": \"TotalPrice\",\n      \"properties\": {\n        \"dtype\": \"number\",\n        \"std\": 3456.606137399932,\n        \"min\": 6.969999999999999,\n        \"max\": 11077.0,\n        \"num_unique_values\": 8,\n        \"samples\": [\n          2919.9949523333335,\n          4414.7235,\n          1500.0\n        ],\n        \"semantic_type\": \"\",\n        \"description\": \"\"\n      }\n    },\n    {\n      \"column\": \"Returned\",\n      \"properties\": {\n        \"dtype\": \"number\",\n        \"std\": 530.2453471046288,\n        \"min\": 0.0,\n        \"max\": 1500.0,\n        \"num_unique_values\": 5,\n        \"samples\": [\n          0.248,\n          0.43199584906463867,\n          0.0\n        ],\n        \"semantic_type\": \"\",\n        \"description\": \"\"\n      }\n    },\n    {\n      \"column\": \"ShippingCost\",\n      \"properties\": {\n        \"dtype\": \"number\",\n        \"std\": 521.5342548391102,\n        \"min\": 5.01,\n        \"max\": 1500.0,\n        \"num_unique_values\": 8,\n        \"samples\": [\n          27.507293333333333,\n          38.635000000000005,\n          1500.0\n        ],\n        \"semantic_type\": \"\",\n        \"description\": \"\"\n      }\n    },\n    {\n      \"column\": \"OrderDate\",\n      \"properties\": {\n        \"dtype\": \"date\",\n        \"min\": \"1970-01-01 00:00:00.000001500\",\n        \"max\": \"2025-06-30 00:00:00\",\n        \"num_unique_values\": 7,\n        \"samples\": [\n          \"1500\",\n          \"2024-04-07 21:35:02.400000256\",\n          \"2024-12-07 06:00:00\"\n        ],\n        \"semantic_type\": \"\",\n        \"description\": \"\"\n      }\n    },\n    {\n      \"column\": \"DeliveryDate\",\n      \"properties\": {\n        \"dtype\": \"date\",\n        \"min\": \"1970-01-01 00:00:00.000001500\",\n        \"max\": \"2025-07-10 00:00:00\",\n        \"num_unique_values\": 7,\n        \"samples\": [\n          \"1500\",\n          \"2024-04-13 22:36:28.799999744\",\n          \"2024-12-13 06:00:00\"\n        ],\n        \"semantic_type\": \"\",\n        \"description\": \"\"\n      }\n    }\n  ]\n}"
            }
          },
          "metadata": {},
          "execution_count": 14
        }
      ]
    },
    {
      "cell_type": "markdown",
      "source": [
        "**Clean & Prepare Data**"
      ],
      "metadata": {
        "id": "rKfYSTPCozaR"
      }
    },
    {
      "cell_type": "code",
      "source": [
        "df.columns = df.columns.str.strip().str.lower().str.replace(\" \", \"_\")\n"
      ],
      "metadata": {
        "id": "LqHIwJT3k_RI"
      },
      "execution_count": 15,
      "outputs": []
    },
    {
      "cell_type": "code",
      "source": [
        "df['orderdate'] = pd.to_datetime(df['orderdate'], errors='coerce')\n",
        "df['deliverydate'] = pd.to_datetime(df['deliverydate'], errors='coerce')"
      ],
      "metadata": {
        "id": "nnkxZ0dhlJHG"
      },
      "execution_count": 16,
      "outputs": []
    },
    {
      "cell_type": "code",
      "source": [
        "num_cols = ['quantity', 'unitprice', 'totalprice', 'discount', 'shippingcost']\n",
        "for col in num_cols:\n",
        "    df[col] = pd.to_numeric(df[col], errors='coerce')"
      ],
      "metadata": {
        "id": "GtCXjA-PlMCc"
      },
      "execution_count": 17,
      "outputs": []
    },
    {
      "cell_type": "code",
      "source": [
        "df['totalprice'] = df['totalprice'].fillna(df['quantity'] * df['unitprice'])"
      ],
      "metadata": {
        "id": "ePY68Y2WlOuB"
      },
      "execution_count": 18,
      "outputs": []
    },
    {
      "cell_type": "code",
      "source": [
        "df_clean = df.dropna(subset=['region', 'product', 'totalprice'])"
      ],
      "metadata": {
        "id": "SzWGUlWJlRrN"
      },
      "execution_count": 19,
      "outputs": []
    },
    {
      "cell_type": "code",
      "source": [
        "df_clean['month'] = df_clean['orderdate'].dt.to_period('M')"
      ],
      "metadata": {
        "id": "WlgLC3gElUB2"
      },
      "execution_count": 20,
      "outputs": []
    },
    {
      "cell_type": "markdown",
      "source": [
        "***Total Sales by Region***"
      ],
      "metadata": {
        "id": "TlmATXkTo73K"
      }
    },
    {
      "cell_type": "code",
      "source": [
        "region_sales = df.groupby('region')['totalprice'].sum().sort_values(ascending=False)\n",
        "\n",
        "plt.figure(figsize=(10,6))\n",
        "sns.barplot(x=region_sales.values, y=region_sales.index)\n",
        "plt.title('Total Sales by Region')\n",
        "plt.xlabel('Total Sales')\n",
        "plt.ylabel('Region')\n",
        "plt.show()"
      ],
      "metadata": {
        "colab": {
          "base_uri": "https://localhost:8080/",
          "height": 564
        },
        "id": "URrm2MGNlWhm",
        "outputId": "b396c9f8-04d2-43c5-f4f5-a8157856a3d6"
      },
      "execution_count": 32,
      "outputs": [
        {
          "output_type": "display_data",
          "data": {
            "text/plain": [
              "<Figure size 1000x600 with 1 Axes>"
            ],
            "image/png": "[encoded data removed]"
          },
          "metadata": {}
        }
      ]
    },
    {
      "cell_type": "markdown",
      "source": [
        "***Monthly Sales Trend***"
      ],
      "metadata": {
        "id": "OMKRgr5wpQnB"
      }
    },
    {
      "cell_type": "code",
      "source": [
        "monthly_sales = df_clean.groupby('month')['totalprice'].sum()\n",
        "plt.figure(figsize=(12,5))\n",
        "monthly_sales.plot(marker='o')\n",
        "plt.title('Monthly Sales Trend')\n",
        "plt.xlabel('Month')\n",
        "plt.ylabel('Total Sales')\n",
        "plt.grid(True)\n",
        "plt.show()"
      ],
      "metadata": {
        "colab": {
          "base_uri": "https://localhost:8080/",
          "height": 503
        },
        "id": "PjX6Cto_lZb3",
        "outputId": "b2612f05-ad94-4cd8-c65b-e77b3e97c2c3"
      },
      "execution_count": 33,
      "outputs": [
        {
          "output_type": "display_data",
          "data": {
            "text/plain": [
              "<Figure size 1200x500 with 1 Axes>"
            ],
            "image/png": "[encoded data removed]"
          },
          "metadata": {}
        }
      ]
    },
    {
      "cell_type": "markdown",
      "source": [
        "***Top 10 Products by Revenue***"
      ],
      "metadata": {
        "id": "ytRHKZnupcb5"
      }
    },
    {
      "cell_type": "code",
      "source": [
        "top_products = df_clean.groupby('product')['totalprice'].sum().sort_values(ascending=False).head(10)\n",
        "plt.figure(figsize=(10,6))\n",
        "sns.barplot(x=top_products.values, y=top_products.index)\n",
        "plt.title('Top 10 Products by Revenue')\n",
        "plt.xlabel('Revenue')\n",
        "plt.ylabel('Product')\n",
        "plt.show()"
      ],
      "metadata": {
        "colab": {
          "base_uri": "https://localhost:8080/",
          "height": 564
        },
        "id": "vTXqIPTLlc_5",
        "outputId": "9206c126-327e-4514-94e0-ef59d8fc64e9"
      },
      "execution_count": 34,
      "outputs": [
        {
          "output_type": "display_data",
          "data": {
            "text/plain": [
              "<Figure size 1000x600 with 1 Axes>"
            ],
            "image/png": "[encoded data removed]"
          },
          "metadata": {}
        }
      ]
    },
    {
      "cell_type": "markdown",
      "source": [
        "***Return Rate***"
      ],
      "metadata": {
        "id": "2tOnCu_Vpt4U"
      }
    },
    {
      "cell_type": "code",
      "source": [
        "return_counts = df_clean['returned'].value_counts(normalize=True) * 100\n",
        "\n",
        "plt.figure(figsize=(6,4))\n",
        "return_counts.plot(kind='bar', color=['green', 'red'])\n",
        "plt.title('Return Rate')\n",
        "plt.ylabel('Percentage')\n",
        "plt.xticks(ticks=[0, 1], labels=['Not Returned', 'Returned'], rotation=0)\n",
        "plt.show()\n",
        "\n",
        "print(\"Return Rate (%):\\n\", return_counts)"
      ],
      "metadata": {
        "colab": {
          "base_uri": "https://localhost:8080/",
          "height": 497
        },
        "id": "Sdl9kjUMlkGQ",
        "outputId": "0be54d00-b6c4-4952-b574-0a01fb8f75c9"
      },
      "execution_count": 37,
      "outputs": [
        {
          "output_type": "display_data",
          "data": {
            "text/plain": [
              "<Figure size 600x400 with 1 Axes>"
            ],
            "image/png": "[encoded data removed]"
          },
          "metadata": {}
        },
        {
          "output_type": "stream",
          "name": "stdout",
          "text": [
            "Return Rate (%):\n",
            " returned\n",
            "0    75.2\n",
            "1    24.8\n",
            "Name: proportion, dtype: float64\n"
          ]
        }
      ]
    },
    {
      "cell_type": "markdown",
      "source": [
        "***Average Delivery Time***"
      ],
      "metadata": {
        "id": "Y0qeBJHUqtGT"
      }
    },
    {
      "cell_type": "code",
      "source": [
        "df_clean['delivery_days'] = (df_clean['deliverydate'] - df_clean['orderdate']).dt.days\n",
        "avg_delivery_time = df_clean['delivery_days'].mean()\n",
        "print(f\"Average Delivery Time: {avg_delivery_time:.2f} days\")"
      ],
      "metadata": {
        "colab": {
          "base_uri": "https://localhost:8080/"
        },
        "id": "bfsSGzwulmUC",
        "outputId": "faf051ea-53db-47d8-e01c-392433c66d2f"
      },
      "execution_count": 38,
      "outputs": [
        {
          "output_type": "stream",
          "name": "stdout",
          "text": [
            "Average Delivery Time: 6.04 days\n"
          ]
        }
      ]
    },
    {
      "cell_type": "markdown",
      "source": [
        "***Sales by Payment Method***"
      ],
      "metadata": {
        "id": "7Rq2sh_uqyyJ"
      }
    },
    {
      "cell_type": "code",
      "source": [
        "payment_method_sales = df_clean.groupby('paymentmethod')['totalprice'].sum().sort_values(ascending=False)\n",
        "plt.figure(figsize=(8,6))\n",
        "payment_method_sales.plot(kind='pie', autopct='%1.1f%%')\n",
        "plt.title('Sales by Payment Method')\n",
        "plt.ylabel('')\n",
        "plt.show()"
      ],
      "metadata": {
        "colab": {
          "base_uri": "https://localhost:8080/",
          "height": 521
        },
        "id": "Fjjs26zglp7f",
        "outputId": "6b354043-0fe7-48d3-e958-6b88d59e7493"
      },
      "execution_count": 39,
      "outputs": [
        {
          "output_type": "display_data",
          "data": {
            "text/plain": [
              "<Figure size 800x600 with 1 Axes>"
            ],
            "image/png": "[encoded data removed]"
          },
          "metadata": {}
        }
      ]
    },
    {
      "cell_type": "markdown",
      "source": [
        "###Conclusion : What We Found from the Sales Data\n",
        "\n",
        "**1) Top Regions Perform Better**\n",
        "\n",
        "Some regions are doing really well in sales. We can learn from these areas and try the same strategies in low-performing regions.\n",
        "\n",
        "**2) Best-Selling Products & Returns**\n",
        "\n",
        "A few products sell the most — these are our best performers. But some products also have many returns. This may mean:\n",
        "\n",
        "*   Product quality issues\n",
        "*   Wrong product expectations\n",
        "*   Need for better product info or photos\n",
        "\n",
        "**3) Popular Payment Methods**\n",
        "\n",
        "Most customers use digital payments like credit cards and UPI. Cash on delivery is less common, especially in cities.\n",
        "\n",
        "**4) Discounts Can Lead to More Returns**\n",
        "\n",
        "Orders with big discounts are sometimes returned more. This could be due to quick decisions by buyers or thinking \"cheap = low quality.\" We should check this pattern.\n",
        "\n",
        "**5) Sales Are Growing Month-by-Month**\n",
        "\n",
        "Overall, sales are going up! Some months are much better — maybe due to festivals or promotions. So, we should plan marketing in those months.\n",
        "\n",
        "**6) Delivery Time Affects Returns**\n",
        "\n",
        "On average, deliveries are okay — but some areas have delays. We noticed that late deliveries = more returns. This means we should improve delivery in those places.\n",
        "\n",
        "\n",
        "\n",
        "###  Final Recommendations\n",
        "\n",
        "- **Promote best-selling products** and phase out low-performing ones.  \n",
        "- **Target marketing** to regions with potential for growth.  \n",
        "- **Optimize delivery services** in areas with consistent delays.  \n",
        "- **Improve product presentation** (images, descriptions) to reduce returns.  \n",
        "- Plan major **discount campaigns during high-traffic months** for best impact."
      ],
      "metadata": {
        "id": "7hEJRORGrdf7"
      }
    }
  ]
}